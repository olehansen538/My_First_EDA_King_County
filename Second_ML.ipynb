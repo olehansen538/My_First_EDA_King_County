{
 "cells": [
  {
   "cell_type": "code",
   "execution_count": 28,
   "metadata": {},
   "outputs": [],
   "source": [
    "import statsmodels.api as sms\n",
    "import statsmodels.formula.api as sm\n",
    "from sklearn.model_selection import train_test_split\n",
    "from sklearn.metrics import mean_squared_error\n",
    "from sklearn.linear_model import Ridge\n",
    "import numpy as np\n",
    "import pandas as pd\n",
    "\n",
    "\n",
    "df = pd.read_csv(\"data/King_County_House_prices_dataset.csv\")"
   ]
  },
  {
   "cell_type": "markdown",
   "metadata": {},
   "source": [
    "Adjusting data types"
   ]
  },
  {
   "cell_type": "code",
   "execution_count": 42,
   "metadata": {},
   "outputs": [],
   "source": [
    "df.price = df.price.astype(\"int\") \n",
    "df.bedrooms = df.bedrooms.astype(\"int8\")\n",
    "df.bathrooms = df.bathrooms.astype(\"float32\")\n",
    "df.sqft_living = df.sqft_living.astype(\"int32\")\n",
    "df.sqft_lot = df.sqft_lot.astype(\"int32\")\n",
    "df.floors = df.floors.astype(\"float16\")\n",
    "df.waterfront = df.waterfront.fillna(0).astype(\"int8\")\n",
    "df.view = df.view.fillna(0).astype(\"int8\")\n",
    "df.grade = df.grade.astype(\"int8\")\n",
    "df.condition = df.condition.astype(\"int8\")\n",
    "df.grade = df.grade.astype(\"int8\")\n",
    "df.sqft_above = df.sqft_above.astype(\"int32\")\n",
    "df.sqft_basement = pd.to_numeric(df.sqft_basement, errors='coerce').fillna(0).astype(\"int32\")\n",
    "df.yr_built = df.yr_built.astype(\"int16\")\n",
    "df.yr_renovated = df.yr_renovated.fillna(0).astype(\"int16\")\n",
    "df.zipcode = df.zipcode.astype(\"int32\")\n",
    "df.sqft_living15 = df.sqft_living.astype(\"int32\")\n",
    "df.sqft_lot15 = df.sqft_lot.astype(\"int32\")\n",
    "\n",
    "df = df[df.bedrooms < 33]\n",
    "df = df[df.sqft_living15 < 12000]"
   ]
  },
  {
   "cell_type": "markdown",
   "metadata": {},
   "source": [
    "Feature engineering"
   ]
  },
  {
   "cell_type": "code",
   "execution_count": 43,
   "metadata": {},
   "outputs": [],
   "source": [
    "Y = df[\"price\"]\n",
    "X = df[[\"sqft_living15\", \"sqft_living\", \"floors\", \"waterfront\", \"yr_renovated\",\n",
    "        \"yr_built\", \"view\", \"grade\", \"bedrooms\", \"bathrooms\"]]"
   ]
  },
  {
   "cell_type": "markdown",
   "metadata": {},
   "source": [
    "Splitting the data"
   ]
  },
  {
   "cell_type": "code",
   "execution_count": 47,
   "metadata": {},
   "outputs": [
    {
     "name": "stdout",
     "output_type": "stream",
     "text": [
      "-----  Splitting the data in train and test ----\n"
     ]
    }
   ],
   "source": [
    "print(\"-----  Splitting the data in train and test ----\")\n",
    "X_train, X_test, y_train, y_test = train_test_split(X, Y, test_size=0.1, random_state=42)"
   ]
  },
  {
   "cell_type": "markdown",
   "metadata": {},
   "source": [
    "Training the model"
   ]
  },
  {
   "cell_type": "code",
   "execution_count": 48,
   "metadata": {},
   "outputs": [
    {
     "name": "stdout",
     "output_type": "stream",
     "text": [
      "-----  Training the model ----\n"
     ]
    }
   ],
   "source": [
    "# Training the model\n",
    "print(\"-----  Training the model ----\")\n",
    "ridge = Ridge(alpha=0.1, normalize=True)\n",
    "model = ridge.fit(X_train, y_train)\n",
    "#print_model = model.summary()\n"
   ]
  },
  {
   "cell_type": "markdown",
   "metadata": {},
   "source": [
    "Evaluating the model"
   ]
  },
  {
   "cell_type": "code",
   "execution_count": 49,
   "metadata": {},
   "outputs": [
    {
     "name": "stdout",
     "output_type": "stream",
     "text": [
      "-----  Evaluating the model ----\n",
      "-------------\n",
      "RMSE on train data: 218639.02273763088\n",
      "RMSE on test data: 188754.29807201738\n"
     ]
    }
   ],
   "source": [
    "print(\"-----  Evaluating the model ----\")\n",
    "ridge_pred = ridge.predict(X_train)\n",
    "err_train = np.sqrt(mean_squared_error(y_train, ridge_pred))\n",
    "ridge_test = model.predict(X_test)\n",
    "err_test = np.sqrt(mean_squared_error(y_test, ridge_test))\n",
    "\n",
    "#print(print_model)\n",
    "print (\"-------------\")\n",
    "print (f\"RMSE on train data: {err_train}\")\n",
    "print (f\"RMSE on test data: {err_test}\")"
   ]
  },
  {
   "cell_type": "code",
   "execution_count": null,
   "metadata": {},
   "outputs": [],
   "source": []
  },
  {
   "cell_type": "code",
   "execution_count": null,
   "metadata": {},
   "outputs": [],
   "source": []
  }
 ],
 "metadata": {
  "kernelspec": {
   "display_name": "Python 3",
   "language": "python",
   "name": "python3"
  },
  "language_info": {
   "codemirror_mode": {
    "name": "ipython",
    "version": 3
   },
   "file_extension": ".py",
   "mimetype": "text/x-python",
   "name": "python",
   "nbconvert_exporter": "python",
   "pygments_lexer": "ipython3",
   "version": "3.8.5"
  }
 },
 "nbformat": 4,
 "nbformat_minor": 4
}
