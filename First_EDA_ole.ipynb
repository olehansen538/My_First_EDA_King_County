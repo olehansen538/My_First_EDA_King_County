{
 "cells": [
  {
   "cell_type": "markdown",
   "metadata": {},
   "source": [
    "# The King County Case Study"
   ]
  },
  {
   "cell_type": "markdown",
   "metadata": {},
   "source": [
    "![King County Skyline](assessors_social-1.jpg)"
   ]
  },
  {
   "cell_type": "markdown",
   "metadata": {},
   "source": [
    "## Goal of the Analysis"
   ]
  },
  {
   "cell_type": "markdown",
   "metadata": {},
   "source": [
    "As per the customers requirements, the focus of the analysis is on identifying houses that are affordable and are situated in a kid-friendly and social environment. Initial points of interest are for example when and where it would be recommendable to buy a house, given these requirements."
   ]
  },
  {
   "cell_type": "markdown",
   "metadata": {},
   "source": [
    "### Agenda\n",
    "* **First look at the data**\n",
    "* **Formulating assumptions and areas to investigate**\n",
    "* **Cleaning and preparing the data**\n",
    "* **Analysis & revisiting the assumptions**\n",
    "* **Recommendations**"
   ]
  },
  {
   "cell_type": "markdown",
   "metadata": {},
   "source": [
    "## First look at the data"
   ]
  },
  {
   "cell_type": "markdown",
   "metadata": {},
   "source": [
    "In a first step, we import the required packages and load the data into a dataframe."
   ]
  },
  {
   "cell_type": "code",
   "execution_count": 2,
   "metadata": {},
   "outputs": [],
   "source": [
    "# Importing required packages\n",
    "\n",
    "import pandas as pd\n",
    "import numpy as np\n",
    "import sklearn\n",
    "import seaborn as sns\n",
    "import matplotlib.pyplot as plt\n",
    "import folium\n",
    "from folium.plugins import FastMarkerCluster"
   ]
  },
  {
   "cell_type": "code",
   "execution_count": 3,
   "metadata": {},
   "outputs": [],
   "source": [
    "# Loading data into a dataframe\n",
    "df = pd.read_csv(\"data/King_County_House_prices_dataset.csv\")"
   ]
  },
  {
   "cell_type": "markdown",
   "metadata": {},
   "source": [
    "To get a feel for the data we have a look at the first rows."
   ]
  },
  {
   "cell_type": "code",
   "execution_count": 4,
   "metadata": {},
   "outputs": [
    {
     "data": {
      "text/html": [
       "<div>\n",
       "<style scoped>\n",
       "    .dataframe tbody tr th:only-of-type {\n",
       "        vertical-align: middle;\n",
       "    }\n",
       "\n",
       "    .dataframe tbody tr th {\n",
       "        vertical-align: top;\n",
       "    }\n",
       "\n",
       "    .dataframe thead th {\n",
       "        text-align: right;\n",
       "    }\n",
       "</style>\n",
       "<table border=\"1\" class=\"dataframe\">\n",
       "  <thead>\n",
       "    <tr style=\"text-align: right;\">\n",
       "      <th></th>\n",
       "      <th>id</th>\n",
       "      <th>date</th>\n",
       "      <th>price</th>\n",
       "      <th>bedrooms</th>\n",
       "      <th>bathrooms</th>\n",
       "      <th>sqft_living</th>\n",
       "      <th>sqft_lot</th>\n",
       "      <th>floors</th>\n",
       "      <th>waterfront</th>\n",
       "      <th>view</th>\n",
       "      <th>...</th>\n",
       "      <th>grade</th>\n",
       "      <th>sqft_above</th>\n",
       "      <th>sqft_basement</th>\n",
       "      <th>yr_built</th>\n",
       "      <th>yr_renovated</th>\n",
       "      <th>zipcode</th>\n",
       "      <th>lat</th>\n",
       "      <th>long</th>\n",
       "      <th>sqft_living15</th>\n",
       "      <th>sqft_lot15</th>\n",
       "    </tr>\n",
       "  </thead>\n",
       "  <tbody>\n",
       "    <tr>\n",
       "      <th>0</th>\n",
       "      <td>7129300520</td>\n",
       "      <td>10/13/2014</td>\n",
       "      <td>221900.0</td>\n",
       "      <td>3</td>\n",
       "      <td>1.00</td>\n",
       "      <td>1180</td>\n",
       "      <td>5650</td>\n",
       "      <td>1.0</td>\n",
       "      <td>NaN</td>\n",
       "      <td>0.0</td>\n",
       "      <td>...</td>\n",
       "      <td>7</td>\n",
       "      <td>1180</td>\n",
       "      <td>0.0</td>\n",
       "      <td>1955</td>\n",
       "      <td>0.0</td>\n",
       "      <td>98178</td>\n",
       "      <td>47.5112</td>\n",
       "      <td>-122.257</td>\n",
       "      <td>1340</td>\n",
       "      <td>5650</td>\n",
       "    </tr>\n",
       "    <tr>\n",
       "      <th>1</th>\n",
       "      <td>6414100192</td>\n",
       "      <td>12/9/2014</td>\n",
       "      <td>538000.0</td>\n",
       "      <td>3</td>\n",
       "      <td>2.25</td>\n",
       "      <td>2570</td>\n",
       "      <td>7242</td>\n",
       "      <td>2.0</td>\n",
       "      <td>0.0</td>\n",
       "      <td>0.0</td>\n",
       "      <td>...</td>\n",
       "      <td>7</td>\n",
       "      <td>2170</td>\n",
       "      <td>400.0</td>\n",
       "      <td>1951</td>\n",
       "      <td>1991.0</td>\n",
       "      <td>98125</td>\n",
       "      <td>47.7210</td>\n",
       "      <td>-122.319</td>\n",
       "      <td>1690</td>\n",
       "      <td>7639</td>\n",
       "    </tr>\n",
       "    <tr>\n",
       "      <th>2</th>\n",
       "      <td>5631500400</td>\n",
       "      <td>2/25/2015</td>\n",
       "      <td>180000.0</td>\n",
       "      <td>2</td>\n",
       "      <td>1.00</td>\n",
       "      <td>770</td>\n",
       "      <td>10000</td>\n",
       "      <td>1.0</td>\n",
       "      <td>0.0</td>\n",
       "      <td>0.0</td>\n",
       "      <td>...</td>\n",
       "      <td>6</td>\n",
       "      <td>770</td>\n",
       "      <td>0.0</td>\n",
       "      <td>1933</td>\n",
       "      <td>NaN</td>\n",
       "      <td>98028</td>\n",
       "      <td>47.7379</td>\n",
       "      <td>-122.233</td>\n",
       "      <td>2720</td>\n",
       "      <td>8062</td>\n",
       "    </tr>\n",
       "    <tr>\n",
       "      <th>3</th>\n",
       "      <td>2487200875</td>\n",
       "      <td>12/9/2014</td>\n",
       "      <td>604000.0</td>\n",
       "      <td>4</td>\n",
       "      <td>3.00</td>\n",
       "      <td>1960</td>\n",
       "      <td>5000</td>\n",
       "      <td>1.0</td>\n",
       "      <td>0.0</td>\n",
       "      <td>0.0</td>\n",
       "      <td>...</td>\n",
       "      <td>7</td>\n",
       "      <td>1050</td>\n",
       "      <td>910.0</td>\n",
       "      <td>1965</td>\n",
       "      <td>0.0</td>\n",
       "      <td>98136</td>\n",
       "      <td>47.5208</td>\n",
       "      <td>-122.393</td>\n",
       "      <td>1360</td>\n",
       "      <td>5000</td>\n",
       "    </tr>\n",
       "    <tr>\n",
       "      <th>4</th>\n",
       "      <td>1954400510</td>\n",
       "      <td>2/18/2015</td>\n",
       "      <td>510000.0</td>\n",
       "      <td>3</td>\n",
       "      <td>2.00</td>\n",
       "      <td>1680</td>\n",
       "      <td>8080</td>\n",
       "      <td>1.0</td>\n",
       "      <td>0.0</td>\n",
       "      <td>0.0</td>\n",
       "      <td>...</td>\n",
       "      <td>8</td>\n",
       "      <td>1680</td>\n",
       "      <td>0.0</td>\n",
       "      <td>1987</td>\n",
       "      <td>0.0</td>\n",
       "      <td>98074</td>\n",
       "      <td>47.6168</td>\n",
       "      <td>-122.045</td>\n",
       "      <td>1800</td>\n",
       "      <td>7503</td>\n",
       "    </tr>\n",
       "  </tbody>\n",
       "</table>\n",
       "<p>5 rows × 21 columns</p>\n",
       "</div>"
      ],
      "text/plain": [
       "           id        date     price  bedrooms  bathrooms  sqft_living  \\\n",
       "0  7129300520  10/13/2014  221900.0         3       1.00         1180   \n",
       "1  6414100192   12/9/2014  538000.0         3       2.25         2570   \n",
       "2  5631500400   2/25/2015  180000.0         2       1.00          770   \n",
       "3  2487200875   12/9/2014  604000.0         4       3.00         1960   \n",
       "4  1954400510   2/18/2015  510000.0         3       2.00         1680   \n",
       "\n",
       "   sqft_lot  floors  waterfront  view  ...  grade  sqft_above  sqft_basement  \\\n",
       "0      5650     1.0         NaN   0.0  ...      7        1180            0.0   \n",
       "1      7242     2.0         0.0   0.0  ...      7        2170          400.0   \n",
       "2     10000     1.0         0.0   0.0  ...      6         770            0.0   \n",
       "3      5000     1.0         0.0   0.0  ...      7        1050          910.0   \n",
       "4      8080     1.0         0.0   0.0  ...      8        1680            0.0   \n",
       "\n",
       "  yr_built  yr_renovated  zipcode      lat     long  sqft_living15  sqft_lot15  \n",
       "0     1955           0.0    98178  47.5112 -122.257           1340        5650  \n",
       "1     1951        1991.0    98125  47.7210 -122.319           1690        7639  \n",
       "2     1933           NaN    98028  47.7379 -122.233           2720        8062  \n",
       "3     1965           0.0    98136  47.5208 -122.393           1360        5000  \n",
       "4     1987           0.0    98074  47.6168 -122.045           1800        7503  \n",
       "\n",
       "[5 rows x 21 columns]"
      ]
     },
     "execution_count": 4,
     "metadata": {},
     "output_type": "execute_result"
    }
   ],
   "source": [
    "df.head()"
   ]
  },
  {
   "cell_type": "markdown",
   "metadata": {},
   "source": [
    "## Formulating assumptions and areas to investigate"
   ]
  },
  {
   "cell_type": "markdown",
   "metadata": {},
   "source": [
    "Based on the first look at the data set and the requirement of the customer, we make the following assumptions:\n",
    "1. **The average prices for houses are different for different months.** As the customer is asking when to buy, there might be time frame where houses are cheaper.\n",
    "2. **The location of the house influences its price.** In addition, the customer would like to narrow down where they should look for houses, as some areas might be cheaper than others.\n",
    "3. **Renovated houses will be more expensive.** This is important because by purchasing a non-renovated house and potentially doing the renovation themselves, the customer might be able to afford a house with a larger living area.\n",
    "4. **The additional benefit of a waterfront will make a house more expensive.** Again, by choosing to go without a waterfront, the customer might be able to afford a larger living area (house)."
   ]
  },
  {
   "cell_type": "markdown",
   "metadata": {},
   "source": [
    "## Cleaning and preparing the data"
   ]
  },
  {
   "cell_type": "markdown",
   "metadata": {},
   "source": [
    "### Identifying missing values and adjusting data types"
   ]
  },
  {
   "cell_type": "markdown",
   "metadata": {},
   "source": [
    "To identify whether there are columns with missing data, we take a look at the Non-Null Count provided by the overall information of the dataframe. This also provides us the current data types that are contained in each column."
   ]
  },
  {
   "cell_type": "code",
   "execution_count": 5,
   "metadata": {},
   "outputs": [
    {
     "name": "stdout",
     "output_type": "stream",
     "text": [
      "<class 'pandas.core.frame.DataFrame'>\n",
      "RangeIndex: 21597 entries, 0 to 21596\n",
      "Data columns (total 21 columns):\n",
      " #   Column         Non-Null Count  Dtype  \n",
      "---  ------         --------------  -----  \n",
      " 0   id             21597 non-null  int64  \n",
      " 1   date           21597 non-null  object \n",
      " 2   price          21597 non-null  float64\n",
      " 3   bedrooms       21597 non-null  int64  \n",
      " 4   bathrooms      21597 non-null  float64\n",
      " 5   sqft_living    21597 non-null  int64  \n",
      " 6   sqft_lot       21597 non-null  int64  \n",
      " 7   floors         21597 non-null  float64\n",
      " 8   waterfront     19221 non-null  float64\n",
      " 9   view           21534 non-null  float64\n",
      " 10  condition      21597 non-null  int64  \n",
      " 11  grade          21597 non-null  int64  \n",
      " 12  sqft_above     21597 non-null  int64  \n",
      " 13  sqft_basement  21597 non-null  object \n",
      " 14  yr_built       21597 non-null  int64  \n",
      " 15  yr_renovated   17755 non-null  float64\n",
      " 16  zipcode        21597 non-null  int64  \n",
      " 17  lat            21597 non-null  float64\n",
      " 18  long           21597 non-null  float64\n",
      " 19  sqft_living15  21597 non-null  int64  \n",
      " 20  sqft_lot15     21597 non-null  int64  \n",
      "dtypes: float64(8), int64(11), object(2)\n",
      "memory usage: 3.5+ MB\n"
     ]
    }
   ],
   "source": [
    "df.info()"
   ]
  },
  {
   "cell_type": "markdown",
   "metadata": {},
   "source": [
    "**Missing values**: There are 3 columns that have missing values, ```waterfront, view, yr_renovated```. The ```waterfront``` column indicates whether the house has a waterfront. We make the assumption that if there is no value given, the house does not have a waterfront. The same reasoning applies for the ```view``` column, which we interpret as how often the house has been on the market before it was sold. This could be houses that have been sold without having been officially on the market. The low number of missing values (63) supports this assumption. Lastly, the ```yr_renovated``` column shows when the house was last renovated before sale. Here, we assume that the house was not renovated yet or the date of renovation is not documented, which amounts to the same outcome. As a result, we fill all missing values in these three columns with the value ```0```. \n",
    "\n",
    "**Adjusting data types**: The ```sqft_basement``` column is of datatype object. On further inspection it turns out that it contains some numbers formatted as strings and some ```?```. Thus we can simply convert all values to integers and replace the unknown values with 0. For cosmetic reasons, we also readjust the data type of the price column to full integers."
   ]
  },
  {
   "cell_type": "code",
   "execution_count": 6,
   "metadata": {},
   "outputs": [],
   "source": [
    "# Replacing missing values with 0\n",
    "df.waterfront = df.waterfront.fillna(0).astype(\"int8\")\n",
    "df.view = df.view.fillna(0).astype(\"int8\")\n",
    "df.yr_renovated = df.yr_renovated.fillna(0).astype(\"int16\")\n",
    "\n",
    "# Changing data type of price column to int\n",
    "df.price = df.price.astype(\"int64\")\n",
    "df.sqft_basement = pd.to_numeric(df.sqft_basement, errors='coerce').fillna(0).astype(\"int32\")"
   ]
  },
  {
   "cell_type": "markdown",
   "metadata": {},
   "source": [
    "### Identifying and removing outliers "
   ]
  },
  {
   "cell_type": "markdown",
   "metadata": {},
   "source": [
    "In order to find outliers and extreme values, we perform some preliminary numerical and graphical analysis. As a first step, we look at the description of the data sets statistics."
   ]
  },
  {
   "cell_type": "code",
   "execution_count": 7,
   "metadata": {},
   "outputs": [
    {
     "data": {
      "text/html": [
       "<div>\n",
       "<style scoped>\n",
       "    .dataframe tbody tr th:only-of-type {\n",
       "        vertical-align: middle;\n",
       "    }\n",
       "\n",
       "    .dataframe tbody tr th {\n",
       "        vertical-align: top;\n",
       "    }\n",
       "\n",
       "    .dataframe thead th {\n",
       "        text-align: right;\n",
       "    }\n",
       "</style>\n",
       "<table border=\"1\" class=\"dataframe\">\n",
       "  <thead>\n",
       "    <tr style=\"text-align: right;\">\n",
       "      <th></th>\n",
       "      <th>id</th>\n",
       "      <th>price</th>\n",
       "      <th>bedrooms</th>\n",
       "      <th>bathrooms</th>\n",
       "      <th>sqft_living</th>\n",
       "      <th>sqft_lot</th>\n",
       "      <th>floors</th>\n",
       "      <th>waterfront</th>\n",
       "      <th>view</th>\n",
       "      <th>condition</th>\n",
       "      <th>grade</th>\n",
       "      <th>sqft_above</th>\n",
       "      <th>sqft_basement</th>\n",
       "      <th>yr_built</th>\n",
       "      <th>yr_renovated</th>\n",
       "      <th>zipcode</th>\n",
       "      <th>lat</th>\n",
       "      <th>long</th>\n",
       "      <th>sqft_living15</th>\n",
       "      <th>sqft_lot15</th>\n",
       "    </tr>\n",
       "  </thead>\n",
       "  <tbody>\n",
       "    <tr>\n",
       "      <th>count</th>\n",
       "      <td>2.159700e+04</td>\n",
       "      <td>2.159700e+04</td>\n",
       "      <td>21597.000000</td>\n",
       "      <td>21597.000000</td>\n",
       "      <td>21597.000000</td>\n",
       "      <td>2.159700e+04</td>\n",
       "      <td>21597.000000</td>\n",
       "      <td>21597.000000</td>\n",
       "      <td>21597.000000</td>\n",
       "      <td>21597.000000</td>\n",
       "      <td>21597.000000</td>\n",
       "      <td>21597.000000</td>\n",
       "      <td>21597.000000</td>\n",
       "      <td>21597.000000</td>\n",
       "      <td>21597.000000</td>\n",
       "      <td>21597.000000</td>\n",
       "      <td>21597.000000</td>\n",
       "      <td>21597.000000</td>\n",
       "      <td>21597.000000</td>\n",
       "      <td>21597.000000</td>\n",
       "    </tr>\n",
       "    <tr>\n",
       "      <th>mean</th>\n",
       "      <td>4.580474e+09</td>\n",
       "      <td>5.402966e+05</td>\n",
       "      <td>3.373200</td>\n",
       "      <td>2.115826</td>\n",
       "      <td>2080.321850</td>\n",
       "      <td>1.509941e+04</td>\n",
       "      <td>1.494096</td>\n",
       "      <td>0.006760</td>\n",
       "      <td>0.233181</td>\n",
       "      <td>3.409825</td>\n",
       "      <td>7.657915</td>\n",
       "      <td>1788.596842</td>\n",
       "      <td>285.716581</td>\n",
       "      <td>1970.999676</td>\n",
       "      <td>68.758207</td>\n",
       "      <td>98077.951845</td>\n",
       "      <td>47.560093</td>\n",
       "      <td>-122.213982</td>\n",
       "      <td>1986.620318</td>\n",
       "      <td>12758.283512</td>\n",
       "    </tr>\n",
       "    <tr>\n",
       "      <th>std</th>\n",
       "      <td>2.876736e+09</td>\n",
       "      <td>3.673681e+05</td>\n",
       "      <td>0.926299</td>\n",
       "      <td>0.768984</td>\n",
       "      <td>918.106125</td>\n",
       "      <td>4.141264e+04</td>\n",
       "      <td>0.539683</td>\n",
       "      <td>0.081944</td>\n",
       "      <td>0.764673</td>\n",
       "      <td>0.650546</td>\n",
       "      <td>1.173200</td>\n",
       "      <td>827.759761</td>\n",
       "      <td>439.819830</td>\n",
       "      <td>29.375234</td>\n",
       "      <td>364.037499</td>\n",
       "      <td>53.513072</td>\n",
       "      <td>0.138552</td>\n",
       "      <td>0.140724</td>\n",
       "      <td>685.230472</td>\n",
       "      <td>27274.441950</td>\n",
       "    </tr>\n",
       "    <tr>\n",
       "      <th>min</th>\n",
       "      <td>1.000102e+06</td>\n",
       "      <td>7.800000e+04</td>\n",
       "      <td>1.000000</td>\n",
       "      <td>0.500000</td>\n",
       "      <td>370.000000</td>\n",
       "      <td>5.200000e+02</td>\n",
       "      <td>1.000000</td>\n",
       "      <td>0.000000</td>\n",
       "      <td>0.000000</td>\n",
       "      <td>1.000000</td>\n",
       "      <td>3.000000</td>\n",
       "      <td>370.000000</td>\n",
       "      <td>0.000000</td>\n",
       "      <td>1900.000000</td>\n",
       "      <td>0.000000</td>\n",
       "      <td>98001.000000</td>\n",
       "      <td>47.155900</td>\n",
       "      <td>-122.519000</td>\n",
       "      <td>399.000000</td>\n",
       "      <td>651.000000</td>\n",
       "    </tr>\n",
       "    <tr>\n",
       "      <th>25%</th>\n",
       "      <td>2.123049e+09</td>\n",
       "      <td>3.220000e+05</td>\n",
       "      <td>3.000000</td>\n",
       "      <td>1.750000</td>\n",
       "      <td>1430.000000</td>\n",
       "      <td>5.040000e+03</td>\n",
       "      <td>1.000000</td>\n",
       "      <td>0.000000</td>\n",
       "      <td>0.000000</td>\n",
       "      <td>3.000000</td>\n",
       "      <td>7.000000</td>\n",
       "      <td>1190.000000</td>\n",
       "      <td>0.000000</td>\n",
       "      <td>1951.000000</td>\n",
       "      <td>0.000000</td>\n",
       "      <td>98033.000000</td>\n",
       "      <td>47.471100</td>\n",
       "      <td>-122.328000</td>\n",
       "      <td>1490.000000</td>\n",
       "      <td>5100.000000</td>\n",
       "    </tr>\n",
       "    <tr>\n",
       "      <th>50%</th>\n",
       "      <td>3.904930e+09</td>\n",
       "      <td>4.500000e+05</td>\n",
       "      <td>3.000000</td>\n",
       "      <td>2.250000</td>\n",
       "      <td>1910.000000</td>\n",
       "      <td>7.618000e+03</td>\n",
       "      <td>1.500000</td>\n",
       "      <td>0.000000</td>\n",
       "      <td>0.000000</td>\n",
       "      <td>3.000000</td>\n",
       "      <td>7.000000</td>\n",
       "      <td>1560.000000</td>\n",
       "      <td>0.000000</td>\n",
       "      <td>1975.000000</td>\n",
       "      <td>0.000000</td>\n",
       "      <td>98065.000000</td>\n",
       "      <td>47.571800</td>\n",
       "      <td>-122.231000</td>\n",
       "      <td>1840.000000</td>\n",
       "      <td>7620.000000</td>\n",
       "    </tr>\n",
       "    <tr>\n",
       "      <th>75%</th>\n",
       "      <td>7.308900e+09</td>\n",
       "      <td>6.450000e+05</td>\n",
       "      <td>4.000000</td>\n",
       "      <td>2.500000</td>\n",
       "      <td>2550.000000</td>\n",
       "      <td>1.068500e+04</td>\n",
       "      <td>2.000000</td>\n",
       "      <td>0.000000</td>\n",
       "      <td>0.000000</td>\n",
       "      <td>4.000000</td>\n",
       "      <td>8.000000</td>\n",
       "      <td>2210.000000</td>\n",
       "      <td>550.000000</td>\n",
       "      <td>1997.000000</td>\n",
       "      <td>0.000000</td>\n",
       "      <td>98118.000000</td>\n",
       "      <td>47.678000</td>\n",
       "      <td>-122.125000</td>\n",
       "      <td>2360.000000</td>\n",
       "      <td>10083.000000</td>\n",
       "    </tr>\n",
       "    <tr>\n",
       "      <th>max</th>\n",
       "      <td>9.900000e+09</td>\n",
       "      <td>7.700000e+06</td>\n",
       "      <td>33.000000</td>\n",
       "      <td>8.000000</td>\n",
       "      <td>13540.000000</td>\n",
       "      <td>1.651359e+06</td>\n",
       "      <td>3.500000</td>\n",
       "      <td>1.000000</td>\n",
       "      <td>4.000000</td>\n",
       "      <td>5.000000</td>\n",
       "      <td>13.000000</td>\n",
       "      <td>9410.000000</td>\n",
       "      <td>4820.000000</td>\n",
       "      <td>2015.000000</td>\n",
       "      <td>2015.000000</td>\n",
       "      <td>98199.000000</td>\n",
       "      <td>47.777600</td>\n",
       "      <td>-121.315000</td>\n",
       "      <td>6210.000000</td>\n",
       "      <td>871200.000000</td>\n",
       "    </tr>\n",
       "  </tbody>\n",
       "</table>\n",
       "</div>"
      ],
      "text/plain": [
       "                 id         price      bedrooms     bathrooms   sqft_living  \\\n",
       "count  2.159700e+04  2.159700e+04  21597.000000  21597.000000  21597.000000   \n",
       "mean   4.580474e+09  5.402966e+05      3.373200      2.115826   2080.321850   \n",
       "std    2.876736e+09  3.673681e+05      0.926299      0.768984    918.106125   \n",
       "min    1.000102e+06  7.800000e+04      1.000000      0.500000    370.000000   \n",
       "25%    2.123049e+09  3.220000e+05      3.000000      1.750000   1430.000000   \n",
       "50%    3.904930e+09  4.500000e+05      3.000000      2.250000   1910.000000   \n",
       "75%    7.308900e+09  6.450000e+05      4.000000      2.500000   2550.000000   \n",
       "max    9.900000e+09  7.700000e+06     33.000000      8.000000  13540.000000   \n",
       "\n",
       "           sqft_lot        floors    waterfront          view     condition  \\\n",
       "count  2.159700e+04  21597.000000  21597.000000  21597.000000  21597.000000   \n",
       "mean   1.509941e+04      1.494096      0.006760      0.233181      3.409825   \n",
       "std    4.141264e+04      0.539683      0.081944      0.764673      0.650546   \n",
       "min    5.200000e+02      1.000000      0.000000      0.000000      1.000000   \n",
       "25%    5.040000e+03      1.000000      0.000000      0.000000      3.000000   \n",
       "50%    7.618000e+03      1.500000      0.000000      0.000000      3.000000   \n",
       "75%    1.068500e+04      2.000000      0.000000      0.000000      4.000000   \n",
       "max    1.651359e+06      3.500000      1.000000      4.000000      5.000000   \n",
       "\n",
       "              grade    sqft_above  sqft_basement      yr_built  yr_renovated  \\\n",
       "count  21597.000000  21597.000000   21597.000000  21597.000000  21597.000000   \n",
       "mean       7.657915   1788.596842     285.716581   1970.999676     68.758207   \n",
       "std        1.173200    827.759761     439.819830     29.375234    364.037499   \n",
       "min        3.000000    370.000000       0.000000   1900.000000      0.000000   \n",
       "25%        7.000000   1190.000000       0.000000   1951.000000      0.000000   \n",
       "50%        7.000000   1560.000000       0.000000   1975.000000      0.000000   \n",
       "75%        8.000000   2210.000000     550.000000   1997.000000      0.000000   \n",
       "max       13.000000   9410.000000    4820.000000   2015.000000   2015.000000   \n",
       "\n",
       "            zipcode           lat          long  sqft_living15     sqft_lot15  \n",
       "count  21597.000000  21597.000000  21597.000000   21597.000000   21597.000000  \n",
       "mean   98077.951845     47.560093   -122.213982    1986.620318   12758.283512  \n",
       "std       53.513072      0.138552      0.140724     685.230472   27274.441950  \n",
       "min    98001.000000     47.155900   -122.519000     399.000000     651.000000  \n",
       "25%    98033.000000     47.471100   -122.328000    1490.000000    5100.000000  \n",
       "50%    98065.000000     47.571800   -122.231000    1840.000000    7620.000000  \n",
       "75%    98118.000000     47.678000   -122.125000    2360.000000   10083.000000  \n",
       "max    98199.000000     47.777600   -121.315000    6210.000000  871200.000000  "
      ]
     },
     "execution_count": 7,
     "metadata": {},
     "output_type": "execute_result"
    }
   ],
   "source": [
    "df.describe()"
   ]
  },
  {
   "cell_type": "markdown",
   "metadata": {},
   "source": [
    "A quick look at the largest values of the bedroom column shows that there is one house with 33 bedrooms."
   ]
  },
  {
   "cell_type": "code",
   "execution_count": 8,
   "metadata": {},
   "outputs": [
    {
     "data": {
      "text/plain": [
       "15856    33\n",
       "8748     11\n",
       "19239    10\n",
       "Name: bedrooms, dtype: int64"
      ]
     },
     "execution_count": 8,
     "metadata": {},
     "output_type": "execute_result"
    }
   ],
   "source": [
    "df.bedrooms.sort_values(ascending=False).head(3)"
   ]
  },
  {
   "cell_type": "markdown",
   "metadata": {},
   "source": [
    "Whether this was a large mansion or it is an error in the data does not matter - it will not help us analyze prices of the types of houses our customer is looking for. Therefore we remove the row from the data set."
   ]
  },
  {
   "cell_type": "code",
   "execution_count": 9,
   "metadata": {},
   "outputs": [],
   "source": [
    "df = df[df.bedrooms < 33]"
   ]
  },
  {
   "cell_type": "markdown",
   "metadata": {},
   "source": [
    "We further see that the columns ```bedrooms, bathrooms, floors, waterfront, view, condition, grade``` have values that lie within a small interval. Except for ```view```, the quartiles for these columns look reasonable as well. Therefore, we will not investigate them closer in the preliminary graphical analysis."
   ]
  },
  {
   "cell_type": "markdown",
   "metadata": {},
   "source": [
    "The columns ```date, zipcode, lat, long``` provide time or location context for the other columns and do not show any irregularities when looking at their statistics. They will hence not be evaluated for outliers."
   ]
  },
  {
   "cell_type": "markdown",
   "metadata": {},
   "source": [
    "To get a better picture of the remaining columns ```price, sqft_living, sqft_lot, sqft_above, sqft_basement, yr_built, yr_renovated, sqft_living15, sqft_lot15```, we plot their box plots."
   ]
  },
  {
   "cell_type": "code",
   "execution_count": 10,
   "metadata": {},
   "outputs": [
    {
     "data": {
      "image/png": "[encoded data removed]",
      "text/plain": [
       "<Figure size 1080x432 with 9 Axes>"
      ]
     },
     "metadata": {
      "needs_background": "light"
     },
     "output_type": "display_data"
    }
   ],
   "source": [
    "fig, axes = plt.subplots(ncols=3, nrows=3, figsize=(15,6))\n",
    "\n",
    "df.boxplot(column=['price'],ax=axes[0,0],patch_artist=True)\n",
    "df.boxplot(column=['sqft_living'],ax=axes[0,1],patch_artist=True)\n",
    "df.boxplot(column=['sqft_lot'],ax=axes[0,2],patch_artist=True)\n",
    "df.boxplot(column=['sqft_above'],ax=axes[1,0],patch_artist=True);\n",
    "df.boxplot(column=['sqft_basement'],ax=axes[1,1],patch_artist=True);\n",
    "df.boxplot(column=['yr_built'],ax=axes[1,2],patch_artist=True);\n",
    "df.boxplot(column=['yr_renovated'],ax=axes[2,0],patch_artist=True);\n",
    "df.boxplot(column=['sqft_living15'],ax=axes[2,1],patch_artist=True);\n",
    "df.boxplot(column=['sqft_lot15'],ax=axes[2,2],patch_artist=True);"
   ]
  },
  {
   "cell_type": "markdown",
   "metadata": {},
   "source": [
    "The boxplots indicate two major findings.\n",
    "1. The data for ```yr_renovated``` has a few unclarities. Firstly, the majority of the values seems to be 0 - this could already be observed in the statistical overview. Moreover, those houses that have actually been renovated at some are indicated by year. As these values are so few in numbers, we convert the column into a binary variable that only indicates whether a house has been renovated at all or not in the next section. This simplification can be justified because we are only interested in answering whether renovating increases price, not how long ago that renovation occurred and the impact of that time frame on the price.\n",
    "2. The price value and all square feet indicators show outliers on the upper scale. This makes sense, as really large houses have a high price and will have large areas in the categories ```sqft_living, sqft_lot, sqft_basement``` that describe the house itself. The indicators ```sqft_living15```and ```sqft_lot15```describe the size of houses in the direct neighborhood. Although not as clear, it makes sense that larger houses are siutated close to other larger houses.\n",
    "\n",
    "In order to better evaluate where and when buying a house will be favorable for the customer, a column that normalizes the price by the amount of square feet living space will be introduced in the next section."
   ]
  },
  {
   "cell_type": "markdown",
   "metadata": {},
   "source": [
    "### Creating additional columns"
   ]
  },
  {
   "cell_type": "markdown",
   "metadata": {},
   "source": [
    "In order to investigate the assumption made about the data set, we will create additional columns to better analyze the data. First, we create the new column ```renovated```to indicate whether a house was renovated, regardless of when."
   ]
  },
  {
   "cell_type": "code",
   "execution_count": 11,
   "metadata": {},
   "outputs": [],
   "source": [
    "def check_renov(yr_renovated):\n",
    "    if yr_renovated == 0:\n",
    "        return \"no\"\n",
    "    else:\n",
    "        return \"yes\"\n",
    "\n",
    "\n",
    "df[\"renovated\"] = df.apply(lambda x: check_renov(x[\"yr_renovated\"]), axis=1)"
   ]
  },
  {
   "cell_type": "markdown",
   "metadata": {},
   "source": [
    "Next, we convert the ```date```column into datetime objects and extract the month to be able to plot house prices over time in a concise manner."
   ]
  },
  {
   "cell_type": "code",
   "execution_count": 12,
   "metadata": {},
   "outputs": [],
   "source": [
    "df[\"date\"] = pd.to_datetime(df.date)\n",
    "\n",
    "def extract_month(date):\n",
    "    return date.month\n",
    "\n",
    "df[\"months\"] = df.apply(lambda x: extract_month(x[\"date\"]), axis=1)"
   ]
  },
  {
   "cell_type": "markdown",
   "metadata": {},
   "source": [
    "To have a normalized additional evalution criterion other than just ```price```, we introduce price per square feet of living space as a new column called ```sqft_price```."
   ]
  },
  {
   "cell_type": "code",
   "execution_count": 13,
   "metadata": {},
   "outputs": [],
   "source": [
    "df[\"sqft_price\"] = df.price / df.sqft_living"
   ]
  },
  {
   "cell_type": "markdown",
   "metadata": {},
   "source": [
    "### A second look at the data"
   ]
  },
  {
   "cell_type": "markdown",
   "metadata": {},
   "source": [
    "Now that some helpful columns have been introduced we have another look at the data to get a first rough idea of what influences both ```price```and ```sqft_price```. We use a correlation heatmap to identify candidates that we then further investigate."
   ]
  },
  {
   "cell_type": "code",
   "execution_count": 14,
   "metadata": {},
   "outputs": [
    {
     "data": {
      "image/png": "[encoded data removed]",
      "text/plain": [
       "<Figure size 432x288 with 2 Axes>"
      ]
     },
     "metadata": {
      "needs_background": "light"
     },
     "output_type": "display_data"
    }
   ],
   "source": [
    "sns.heatmap(df[[\"price\", \"bedrooms\", \"sqft_living\", \"floors\", \"grade\", \"sqft_living15\", \"sqft_price\"]].corr());"
   ]
  },
  {
   "cell_type": "markdown",
   "metadata": {},
   "source": [
    "While the size of the living area ```sqft_living```, the evaluation ```grade```and the size of neighborhood houses ```sqft_living15``` all seem to strongly positively correlate with ```price```, they do not with ```sqft_price```. For our customer this means that there are houses out there that should be spacious while still being affordable."
   ]
  },
  {
   "cell_type": "markdown",
   "metadata": {},
   "source": [
    "## Analysis & revisiting the assumptions"
   ]
  },
  {
   "cell_type": "markdown",
   "metadata": {},
   "source": [
    "### Timing"
   ]
  },
  {
   "cell_type": "markdown",
   "metadata": {},
   "source": [
    "In the course of this analysis we will test the assumptions made earlier. The first assumption stated that the (average) prices for houses are different for different months. We look into this matter by plotting the **mean**, **median** and the **lower 25% quantile** of both ```price```and ```sqft_price```per month. We chose these metrics as they relate to the customers budget - their goal is to buy a rather cheap house. To provide more depth to the analysis, we also look at the box plots of ```sqft_price``` per month. The resulting graphs can be found below."
   ]
  },
  {
   "cell_type": "code",
   "execution_count": 33,
   "metadata": {},
   "outputs": [
    {
     "data": {
      "image/png": "[encoded data removed]",
      "text/plain": [
       "<Figure size 1080x288 with 3 Axes>"
      ]
     },
     "metadata": {
      "needs_background": "light"
     },
     "output_type": "display_data"
    }
   ],
   "source": [
    "price_mean_monthly = pd.DataFrame(df.groupby(\"months\").price.mean())\n",
    "price_median_monthly = pd.DataFrame(df.groupby(\"months\").price.median())\n",
    "price_lowq_monthly = pd.DataFrame(df.groupby(\"months\").price.quantile(0.25))\n",
    "\n",
    "sqft_price_mean_monthly = df.groupby(\"months\").sqft_price.mean()\n",
    "sqft_price_median_monthly = df.groupby(\"months\").sqft_price.median()\n",
    "sqft_price_lowq_monthly = df.groupby(\"months\").sqft_price.quantile(0.25)\n",
    "\n",
    "month_price_df = pd.merge(price_mean_monthly, price_median_monthly, how=\"left\", on=\"months\")\n",
    "month_price_df = pd.merge(month_price_df, price_lowq_monthly, how=\"left\", on=\"months\")\n",
    "month_sqft_price_df = pd.merge(sqft_price_mean_monthly, sqft_price_median_monthly, how=\"left\", on=\"months\")\n",
    "month_sqft_price_df = pd.merge(month_sqft_price_df, sqft_price_lowq_monthly, how=\"left\", on=\"months\")\n",
    "month_price_df.columns = [\"mean_price\", \"median_price\", \"25%_price\"]\n",
    "month_sqft_price_df.columns = [\"mean_sqft_price\", \"median_sqft_price\", \"25%_sqft_price\"]\n",
    "\n",
    "fig, axes = plt.subplots(ncols=3, nrows=1, figsize=(15,4))\n",
    "\n",
    "g = sns.lineplot(data=month_price_df, ax=axes[0])\n",
    "g.set_xticks(range(1, len(month_price_df) + 1)) # <--- set the ticks first\n",
    "g.set_xticklabels(['Jan','Feb','Mar','Apr','May','Jun','Jul','Aug','Sep','Oct','Nov','Dec'], rotation=90)\n",
    "\n",
    "g2 = sns.lineplot(data=month_sqft_price_df, ax=axes[1]);\n",
    "g2.set_xticks(range(1, len(month_price_df) + 1)) # <--- set the ticks first\n",
    "g2.set_xticklabels(['Jan','Feb','Mar','Apr','May','Jun','Jul','Aug','Sep','Oct','Nov','Dec'], rotation=90)\n",
    "\n",
    "g0 = sns.boxplot(x='months', y=\"sqft_price\", data=df, ax=axes[2])\n",
    "g0.set_xticks(range(len(month_price_df))) # <--- set the ticks first\n",
    "g0.set_xticklabels(['Jan','Feb','Mar','Apr','May','Jun','Jul','Aug','Sep','Oct','Nov','Dec'], rotation=90);"
   ]
  },
  {
   "cell_type": "markdown",
   "metadata": {},
   "source": [
    "All three figures and their metrics paint a similar picture. Prices, regardless of whether they are total or per square feet, tend to peak in April for all categories considered. Based on this analysis, the period from November to Februar is best fit to buy a house at a comparatively lower price."
   ]
  },
  {
   "cell_type": "markdown",
   "metadata": {},
   "source": [
    "### Location"
   ]
  },
  {
   "cell_type": "markdown",
   "metadata": {},
   "source": [
    "Similar to the timing of buying a house, we assume that it also matters where the house is located. The data of house sales contains the zipcode as information. We again use the three metrics ```mean_sqft_price, median_sqft_price, 25%_sqft_price```from the previous analysis and look into total prices of houses."
   ]
  },
  {
   "cell_type": "code",
   "execution_count": 37,
   "metadata": {},
   "outputs": [
    {
     "data": {
      "image/png": "[encoded data removed]",
      "text/plain": [
       "<Figure size 1080x288 with 3 Axes>"
      ]
     },
     "metadata": {
      "needs_background": "light"
     },
     "output_type": "display_data"
    }
   ],
   "source": [
    "zipcode_sqft_price_df = pd.DataFrame([df.groupby(\"zipcode\").sqft_price.mean(),\n",
    "                        df.groupby(\"zipcode\").sqft_price.median(),\n",
    "                        df.groupby(\"zipcode\").sqft_price.quantile(.25)]).transpose()\n",
    "\n",
    "zipcode_sqft_price_df.columns = [\"mean_sqft_price\", \"median_sqft_price\", \"25%_sqft_price\"]\n",
    "\n",
    "zipcode_sqft_price_df = zipcode_sqft_price_df.reset_index()\n",
    "\n",
    "fig, axes = plt.subplots(ncols=1, nrows=3, figsize=(15,4))\n",
    "\n",
    "g6 = sns.barplot(x=\"zipcode\", y=\"mean_sqft_price\", data=zipcode_sqft_price_df, ax=axes[0]);\n",
    "g6.set_xticklabels('')\n",
    "g6.set_ylabel(\"mean\")\n",
    "g7 = sns.barplot(x=\"zipcode\", y=\"median_sqft_price\", data=zipcode_sqft_price_df, ax=axes[1]);\n",
    "g7.set_xticklabels('')\n",
    "g7.set_ylabel(\"median\")\n",
    "g8 = sns.barplot(x=\"zipcode\", y=\"25%_sqft_price\", data=zipcode_sqft_price_df, ax=axes[2]);\n",
    "g8.set_xticklabels(zipcode_sqft_price_df[\"zipcode\"], rotation=90)\n",
    "g8.set_ylabel(\"25%\")\n",
    "plt.show()"
   ]
  },
  {
   "cell_type": "markdown",
   "metadata": {},
   "source": [
    "The data suggests that there are zipcodes where living space is in general cheaper than in others. These are the zipcodes that the customer should focus on when looking for a house to purchase."
   ]
  },
  {
   "cell_type": "markdown",
   "metadata": {},
   "source": [
    "### Renovated"
   ]
  },
  {
   "cell_type": "markdown",
   "metadata": {},
   "source": [
    "The next assumption to investigate is whether a renovated house costs more than a house that has not been renovated so far. This is a rather simple analysis that can be executed using boxplots for the two categories of houses."
   ]
  },
  {
   "cell_type": "code",
   "execution_count": 17,
   "metadata": {},
   "outputs": [
    {
     "data": {
      "image/png": "[encoded data removed]",
      "text/plain": [
       "<Figure size 432x288 with 1 Axes>"
      ]
     },
     "metadata": {
      "needs_background": "light"
     },
     "output_type": "display_data"
    }
   ],
   "source": [
    "sns.boxplot(x=\"renovated\", y=\"sqft_price\", data=df);"
   ]
  },
  {
   "cell_type": "markdown",
   "metadata": {},
   "source": [
    "As expected, renovated houses do sell for higher prices than those that have not been renovated. Looking especially for non-renovated houses might be beneficial to the customer."
   ]
  },
  {
   "cell_type": "markdown",
   "metadata": {},
   "source": [
    "### Waterfront"
   ]
  },
  {
   "cell_type": "markdown",
   "metadata": {},
   "source": [
    "Similar to the renovation, resigning from the idea of having a waterfront house could lead to lower house prices. We investigate this using another boxplot."
   ]
  },
  {
   "cell_type": "code",
   "execution_count": 18,
   "metadata": {},
   "outputs": [
    {
     "data": {
      "image/png": "[encoded data removed]",
      "text/plain": [
       "<Figure size 432x288 with 1 Axes>"
      ]
     },
     "metadata": {
      "needs_background": "light"
     },
     "output_type": "display_data"
    }
   ],
   "source": [
    "g9 = sns.boxplot(x=\"waterfront\", y=\"sqft_price\", data=df)\n",
    "g9.set_xticklabels([\"no\", \"yes\"]);"
   ]
  },
  {
   "cell_type": "markdown",
   "metadata": {},
   "source": [
    "The results confirm the suspicion that houses with no waterfront have lower prices."
   ]
  },
  {
   "cell_type": "markdown",
   "metadata": {},
   "source": [
    "# Recommendations"
   ]
  },
  {
   "cell_type": "markdown",
   "metadata": {},
   "source": [
    "While the recommendation regarding the timing of a purchase has already been quite specific, here is a reminder of which months are most favorable for buying living space that is relatively cheap."
   ]
  },
  {
   "cell_type": "code",
   "execution_count": 19,
   "metadata": {},
   "outputs": [
    {
     "data": {
      "text/html": [
       "<div>\n",
       "<style scoped>\n",
       "    .dataframe tbody tr th:only-of-type {\n",
       "        vertical-align: middle;\n",
       "    }\n",
       "\n",
       "    .dataframe tbody tr th {\n",
       "        vertical-align: top;\n",
       "    }\n",
       "\n",
       "    .dataframe thead th {\n",
       "        text-align: right;\n",
       "    }\n",
       "</style>\n",
       "<table border=\"1\" class=\"dataframe\">\n",
       "  <thead>\n",
       "    <tr style=\"text-align: right;\">\n",
       "      <th></th>\n",
       "      <th>months</th>\n",
       "      <th>mean_sqft_price</th>\n",
       "      <th>median_sqft_price</th>\n",
       "      <th>25%_sqft_price</th>\n",
       "    </tr>\n",
       "  </thead>\n",
       "  <tbody>\n",
       "    <tr>\n",
       "      <th>0</th>\n",
       "      <td>1</td>\n",
       "      <td>256.773212</td>\n",
       "      <td>234.654631</td>\n",
       "      <td>171.546853</td>\n",
       "    </tr>\n",
       "    <tr>\n",
       "      <th>1</th>\n",
       "      <td>2</td>\n",
       "      <td>259.770095</td>\n",
       "      <td>237.016575</td>\n",
       "      <td>175.211864</td>\n",
       "    </tr>\n",
       "    <tr>\n",
       "      <th>2</th>\n",
       "      <td>12</td>\n",
       "      <td>254.685079</td>\n",
       "      <td>233.298466</td>\n",
       "      <td>176.998745</td>\n",
       "    </tr>\n",
       "    <tr>\n",
       "      <th>3</th>\n",
       "      <td>11</td>\n",
       "      <td>258.495379</td>\n",
       "      <td>238.095238</td>\n",
       "      <td>178.244973</td>\n",
       "    </tr>\n",
       "    <tr>\n",
       "      <th>4</th>\n",
       "      <td>10</td>\n",
       "      <td>262.402144</td>\n",
       "      <td>243.855346</td>\n",
       "      <td>179.282975</td>\n",
       "    </tr>\n",
       "    <tr>\n",
       "      <th>5</th>\n",
       "      <td>8</td>\n",
       "      <td>259.889913</td>\n",
       "      <td>246.268657</td>\n",
       "      <td>182.638861</td>\n",
       "    </tr>\n",
       "    <tr>\n",
       "      <th>6</th>\n",
       "      <td>3</td>\n",
       "      <td>273.811231</td>\n",
       "      <td>252.707581</td>\n",
       "      <td>182.845056</td>\n",
       "    </tr>\n",
       "    <tr>\n",
       "      <th>7</th>\n",
       "      <td>9</td>\n",
       "      <td>259.378960</td>\n",
       "      <td>243.083004</td>\n",
       "      <td>183.066468</td>\n",
       "    </tr>\n",
       "    <tr>\n",
       "      <th>8</th>\n",
       "      <td>7</td>\n",
       "      <td>259.691581</td>\n",
       "      <td>241.716867</td>\n",
       "      <td>184.036480</td>\n",
       "    </tr>\n",
       "    <tr>\n",
       "      <th>9</th>\n",
       "      <td>6</td>\n",
       "      <td>264.749332</td>\n",
       "      <td>248.516129</td>\n",
       "      <td>184.294872</td>\n",
       "    </tr>\n",
       "    <tr>\n",
       "      <th>10</th>\n",
       "      <td>5</td>\n",
       "      <td>269.110846</td>\n",
       "      <td>247.946281</td>\n",
       "      <td>186.558776</td>\n",
       "    </tr>\n",
       "    <tr>\n",
       "      <th>11</th>\n",
       "      <td>4</td>\n",
       "      <td>278.835612</td>\n",
       "      <td>260.000000</td>\n",
       "      <td>192.139738</td>\n",
       "    </tr>\n",
       "  </tbody>\n",
       "</table>\n",
       "</div>"
      ],
      "text/plain": [
       "    months  mean_sqft_price  median_sqft_price  25%_sqft_price\n",
       "0        1       256.773212         234.654631      171.546853\n",
       "1        2       259.770095         237.016575      175.211864\n",
       "2       12       254.685079         233.298466      176.998745\n",
       "3       11       258.495379         238.095238      178.244973\n",
       "4       10       262.402144         243.855346      179.282975\n",
       "5        8       259.889913         246.268657      182.638861\n",
       "6        3       273.811231         252.707581      182.845056\n",
       "7        9       259.378960         243.083004      183.066468\n",
       "8        7       259.691581         241.716867      184.036480\n",
       "9        6       264.749332         248.516129      184.294872\n",
       "10       5       269.110846         247.946281      186.558776\n",
       "11       4       278.835612         260.000000      192.139738"
      ]
     },
     "execution_count": 19,
     "metadata": {},
     "output_type": "execute_result"
    }
   ],
   "source": [
    "month_t = month_sqft_price_df.sort_values(by=\"25%_sqft_price\").reset_index()\n",
    "month_t"
   ]
  },
  {
   "cell_type": "markdown",
   "metadata": {},
   "source": [
    "Even though, strictly speaking the cheapest month is different according to which metric we use, April is least favorable and the months from November to February have the lowest prices. We can therefore recommend buying houses during the cold months of the year."
   ]
  },
  {
   "cell_type": "markdown",
   "metadata": {},
   "source": [
    "In addition to the analysis of potential locations done previously, we will narrow down potential locations even further here and also display them graphically to provide a better overview. According to the customers preferences and requirements, we will set up a few filters to show where affordable and favorable houses are located within King County.\n",
    "\n",
    "The filters are gonna be aimed at houses that:\n",
    "* Have at least 5 bedrooms **(enough for the kids)**\n",
    "* Are within the lower quantile of price per living space square feet **(affordable)**\n",
    "* Are above the lower quantile of living space square feet **(good value/size for money)**\n",
    "* Do not have a waterfront **(good value/size for money)**\n",
    "* Have not been renovated **(good value/size for money)**\n",
    "* Are situated in neighborhoods where houses have a living space above the lower quantile **(social neighborhood)**"
   ]
  },
  {
   "cell_type": "code",
   "execution_count": 20,
   "metadata": {},
   "outputs": [
    {
     "data": {
      "text/plain": [
       "(525, 24)"
      ]
     },
     "execution_count": 20,
     "metadata": {},
     "output_type": "execute_result"
    }
   ],
   "source": [
    "df_filtered = df.loc[(df.bedrooms >= 5) & (df.sqft_price < df.sqft_price.quantile(.25)) \n",
    "                     & (df.sqft_living > df.sqft_living.quantile(.25)) & (df.waterfront == 0) \n",
    "                     & (df.sqft_living15 > df.sqft_living15.quantile(.25)) & (df.renovated == \"no\")]\n",
    "df_filtered.shape"
   ]
  },
  {
   "cell_type": "markdown",
   "metadata": {},
   "source": [
    "The filters lead to 525 houses that fit all the criteria. Let's check their locations."
   ]
  },
  {
   "cell_type": "code",
   "execution_count": 21,
   "metadata": {},
   "outputs": [
    {
     "data": {
      "text/html": [
       "<div style=\"width:100%;\"><div style=\"position:relative;width:100%;height:0;padding-bottom:60%;\"><span style=\"color:#565656\">Make this Notebook Trusted to load map: File -> Trust Notebook</span><iframe src=\"about:blank\" style=\"position:absolute;width:100%;height:100%;left:0;top:0;border:none !important;\" data-html=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 onload=\"this.contentDocument.open();this.contentDocument.write(atob(this.getAttribute('data-html')));this.contentDocument.close();\" allowfullscreen webkitallowfullscreen mozallowfullscreen></iframe></div></div>"
      ],
      "text/plain": [
       "<folium.folium.Map at 0x7f908c6913d0>"
      ]
     },
     "execution_count": 21,
     "metadata": {},
     "output_type": "execute_result"
    }
   ],
   "source": [
    "mean_lat = df_filtered.lat.mean()\n",
    "mean_long = df_filtered.long.mean()\n",
    "\n",
    "\n",
    "folium_map = folium.Map(location=[mean_lat ,mean_long],\n",
    "                        zoom_start=10,\n",
    "                        tiles='stamenterrain')\n",
    "\n",
    "FastMarkerCluster(data=list(zip(df_filtered['lat'].values, df_filtered['long'].values))).add_to(folium_map)\n",
    "folium.LayerControl().add_to(folium_map)\n",
    "folium_map"
   ]
  },
  {
   "cell_type": "markdown",
   "metadata": {},
   "source": [
    "The interactive map above shows where houses that satisfy the filters have been sold within the time frame of the data set. This can be used as a guide to where to look for houses that are large yet affordable. Reversely, it can also be used to investigate preferred neighborhoods and check if it is worth looking in that area at all."
   ]
  },
  {
   "cell_type": "markdown",
   "metadata": {},
   "source": [
    "To make the search for the right house even easier, we will extract the top ten zipcodes in terms of where the most houses like the one we are looking for have been sold."
   ]
  },
  {
   "cell_type": "code",
   "execution_count": 38,
   "metadata": {},
   "outputs": [
    {
     "data": {
      "image/png": "[encoded data removed]",
      "text/plain": [
       "<Figure size 432x288 with 1 Axes>"
      ]
     },
     "metadata": {
      "needs_background": "light"
     },
     "output_type": "display_data"
    }
   ],
   "source": [
    "df_filtered_zip = pd.DataFrame(df_filtered.zipcode.value_counts())\n",
    "df_filtered_zip = df_filtered_zip.reset_index()\n",
    "df_filtered_zip.columns = [\"zipcode\", \"count\"]\n",
    "df_zip_shortlist = df_filtered_zip.sort_values(by=\"count\", ascending=False)[:10]\n",
    "df_zip_shortlist.zipcode = df_zip_shortlist.zipcode.astype(\"str\")\n",
    "g10 = sns.barplot(x=\"zipcode\", y=\"count\", data=df_zip_shortlist, palette=\"Greens\")\n",
    "g10.set_xticklabels(df_zip_shortlist[\"zipcode\"], rotation=45);"
   ]
  },
  {
   "cell_type": "markdown",
   "metadata": {},
   "source": [
    "Most promising seem to be zipcodes ```98058, 98042, 98038```!"
   ]
  }
 ],
 "metadata": {
  "kernelspec": {
   "display_name": "Python 3",
   "language": "python",
   "name": "python3"
  },
  "language_info": {
   "codemirror_mode": {
    "name": "ipython",
    "version": 3
   },
   "file_extension": ".py",
   "mimetype": "text/x-python",
   "name": "python",
   "nbconvert_exporter": "python",
   "pygments_lexer": "ipython3",
   "version": "3.8.5"
  }
 },
 "nbformat": 4,
 "nbformat_minor": 4
}
